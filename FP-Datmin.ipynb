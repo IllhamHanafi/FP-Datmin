{
 "cells": [
  {
   "cell_type": "markdown",
   "metadata": {},
   "source": [
    "# JUDUL FP"
   ]
  },
  {
   "cell_type": "code",
   "execution_count": 1,
   "metadata": {},
   "outputs": [],
   "source": [
    "import numpy as np\n",
    "import matplotlib.pyplot as plt\n",
    "import pandas as pd\n",
    "import math\n",
    "import operator\n",
    "\n",
    "from sklearn.preprocessing import MinMaxScaler\n",
    "from sklearn.model_selection import train_test_split\n",
    "from sklearn.model_selection import KFold"
   ]
  },
  {
   "cell_type": "code",
   "execution_count": 2,
   "metadata": {},
   "outputs": [],
   "source": [
    "#fungsi buat dapetin jarak eucledian\n",
    "#data1 = data pertama\n",
    "#data2 = data pembanding\n",
    "#length = jumlah variabel yang dibandingkan\n",
    "def eucledianDistance(data1, data2, length):\n",
    "    distance = 0\n",
    "    for x in range(length):\n",
    "        distance += pow((float(data1[x]) - float(data2[x])), 2)\n",
    "        # print(str(data1) + \"-\" + str(data2) + \": \" + str(distance))\n",
    "    return math.sqrt(distance)"
   ]
  },
  {
   "cell_type": "code",
   "execution_count": 3,
   "metadata": {},
   "outputs": [],
   "source": [
    "#fungsi untuk mendapatkan tetangga terdekat\n",
    "#trainingset = data training / ground truth\n",
    "#testdata = data testing / data yang diuji\n",
    "#k = tetangga\n",
    "def getNeighbors(trainingSet, testData, testClass, k):\n",
    "    #array distance untuk nyimpan jarak, nanti akan disort yang tedekat\n",
    "    # print(len(testData))\n",
    "    distance = []\n",
    "    length = len(testData) - 1\n",
    "    for x in range(len(trainingSet)):\n",
    "        dist = eucledianDistance(testData, trainingSet[x], length)\n",
    "        distance.append((trainingSet[x], testClass[x], dist))\n",
    "        # print((trainingSet[x], dist))\n",
    "    distance.sort(key=operator.itemgetter(2))\n",
    "    # print(distance)\n",
    "    neighbors = []\n",
    "    for x in range(k):\n",
    "        #habis disort, data tetangga terdekat disimpan di array neighbors\n",
    "        neighbors.append(distance[x][0:2])\n",
    "    # print(neighbors)\n",
    "    return neighbors"
   ]
  },
  {
   "cell_type": "code",
   "execution_count": 4,
   "metadata": {},
   "outputs": [],
   "source": [
    "#fungsi getResponse buat nyari datatest masuk kelas mana / voting kelasnya\n",
    "def getResponse(neighbors):\n",
    "    #classvote disiapin buat penampung proses voting kelas\n",
    "    classVote = {}\n",
    "    # print(neighbors)\n",
    "    for x in range(len(neighbors)):\n",
    "        response = neighbors[x][-1]\n",
    "        # print(response)\n",
    "        if response in classVote:\n",
    "            classVote[response] += 1\n",
    "        else:\n",
    "            classVote[response] = 1\n",
    "    # print(classVote)\n",
    "    # sortedVotes buat milih vote kelas terbanyak\n",
    "    sortedVotes = sorted(classVote.items(), key=operator.itemgetter(1), reverse=True)\n",
    "    # print(sortedVotes[0][0])\n",
    "    return sortedVotes[0][0]"
   ]
  },
  {
   "cell_type": "code",
   "execution_count": 5,
   "metadata": {},
   "outputs": [],
   "source": [
    "#fungsi getAccuracy untuk mendapatkan nilai akurasi\n",
    "#testData adalah kelas dari data yang dicek\n",
    "#prediction adalah prediksi kelas dari data yang dicek\n",
    "def getAccuracy(testData, predictions):\n",
    "    correct = 0\n",
    "#     print(len(testData))\n",
    "#     print(len(predictions))\n",
    "    for x in range(len(testData)):\n",
    "        #jika prediksi benar, maka nilai correct bertambah +1\n",
    "        if testData[x] == predictions[x]:\n",
    "            correct += 1\n",
    "    #mengembalikan nilai return persentase\n",
    "#    print(correct)\n",
    "    return (correct/float(len(testData))) * 100.0"
   ]
  },
  {
   "cell_type": "code",
   "execution_count": 6,
   "metadata": {},
   "outputs": [],
   "source": [
    "#Load dataset\n",
    "path = \"dataset/iris.data\"\n",
    "# path = \"dataset/transfusion.data\"\n",
    "# path = \"dataset/bupa.data\""
   ]
  },
  {
   "cell_type": "code",
   "execution_count": 7,
   "metadata": {},
   "outputs": [],
   "source": [
    "namesIris = [\n",
    "    'sepal-length',\n",
    "    'sepal-width',\n",
    "    'petal-width',\n",
    "    'petal-length',\n",
    "    'class'\n",
    "]\n",
    "\n",
    "nameTransfusion = [\n",
    "    'Recency',\n",
    "    'Frequency',\n",
    "    'Monetary',\n",
    "    'Time',\n",
    "    'Yes/No Donate'\n",
    "]\n",
    "\n",
    "nameBupa = [\n",
    "    'mcv',\n",
    "    'alkphos',\n",
    "    'sgpt',\n",
    "    'sgot',\n",
    "    'gammagt',\n",
    "    'drinks',\n",
    "    'selector'\n",
    "]"
   ]
  },
  {
   "cell_type": "code",
   "execution_count": 8,
   "metadata": {},
   "outputs": [
    {
     "name": "stdout",
     "output_type": "stream",
     "text": [
      "150\n"
     ]
    }
   ],
   "source": [
    "dataset = pd.read_csv(path, header=None)\n",
    "print(len(dataset))"
   ]
  },
  {
   "cell_type": "code",
   "execution_count": 9,
   "metadata": {},
   "outputs": [
    {
     "name": "stdout",
     "output_type": "stream",
     "text": [
      "[[5.1 3.5 1.4 0.2]\n",
      " [4.9 3.  1.4 0.2]\n",
      " [4.7 3.2 1.3 0.2]\n",
      " [4.6 3.1 1.5 0.2]\n",
      " [5.  3.6 1.4 0.2]\n",
      " [5.4 3.9 1.7 0.4]\n",
      " [4.6 3.4 1.4 0.3]\n",
      " [5.  3.4 1.5 0.2]\n",
      " [4.4 2.9 1.4 0.2]\n",
      " [4.9 3.1 1.5 0.1]\n",
      " [5.4 3.7 1.5 0.2]\n",
      " [4.8 3.4 1.6 0.2]\n",
      " [4.8 3.  1.4 0.1]\n",
      " [4.3 3.  1.1 0.1]\n",
      " [5.8 4.  1.2 0.2]\n",
      " [5.7 4.4 1.5 0.4]\n",
      " [5.4 3.9 1.3 0.4]\n",
      " [5.1 3.5 1.4 0.3]\n",
      " [5.7 3.8 1.7 0.3]\n",
      " [5.1 3.8 1.5 0.3]\n",
      " [5.4 3.4 1.7 0.2]\n",
      " [5.1 3.7 1.5 0.4]\n",
      " [4.6 3.6 1.  0.2]\n",
      " [5.1 3.3 1.7 0.5]\n",
      " [4.8 3.4 1.9 0.2]\n",
      " [5.  3.  1.6 0.2]\n",
      " [5.  3.4 1.6 0.4]\n",
      " [5.2 3.5 1.5 0.2]\n",
      " [5.2 3.4 1.4 0.2]\n",
      " [4.7 3.2 1.6 0.2]\n",
      " [4.8 3.1 1.6 0.2]\n",
      " [5.4 3.4 1.5 0.4]\n",
      " [5.2 4.1 1.5 0.1]\n",
      " [5.5 4.2 1.4 0.2]\n",
      " [4.9 3.1 1.5 0.1]\n",
      " [5.  3.2 1.2 0.2]\n",
      " [5.5 3.5 1.3 0.2]\n",
      " [4.9 3.1 1.5 0.1]\n",
      " [4.4 3.  1.3 0.2]\n",
      " [5.1 3.4 1.5 0.2]\n",
      " [5.  3.5 1.3 0.3]\n",
      " [4.5 2.3 1.3 0.3]\n",
      " [4.4 3.2 1.3 0.2]\n",
      " [5.  3.5 1.6 0.6]\n",
      " [5.1 3.8 1.9 0.4]\n",
      " [4.8 3.  1.4 0.3]\n",
      " [5.1 3.8 1.6 0.2]\n",
      " [4.6 3.2 1.4 0.2]\n",
      " [5.3 3.7 1.5 0.2]\n",
      " [5.  3.3 1.4 0.2]\n",
      " [7.  3.2 4.7 1.4]\n",
      " [6.4 3.2 4.5 1.5]\n",
      " [6.9 3.1 4.9 1.5]\n",
      " [5.5 2.3 4.  1.3]\n",
      " [6.5 2.8 4.6 1.5]\n",
      " [5.7 2.8 4.5 1.3]\n",
      " [6.3 3.3 4.7 1.6]\n",
      " [4.9 2.4 3.3 1. ]\n",
      " [6.6 2.9 4.6 1.3]\n",
      " [5.2 2.7 3.9 1.4]\n",
      " [5.  2.  3.5 1. ]\n",
      " [5.9 3.  4.2 1.5]\n",
      " [6.  2.2 4.  1. ]\n",
      " [6.1 2.9 4.7 1.4]\n",
      " [5.6 2.9 3.6 1.3]\n",
      " [6.7 3.1 4.4 1.4]\n",
      " [5.6 3.  4.5 1.5]\n",
      " [5.8 2.7 4.1 1. ]\n",
      " [6.2 2.2 4.5 1.5]\n",
      " [5.6 2.5 3.9 1.1]\n",
      " [5.9 3.2 4.8 1.8]\n",
      " [6.1 2.8 4.  1.3]\n",
      " [6.3 2.5 4.9 1.5]\n",
      " [6.1 2.8 4.7 1.2]\n",
      " [6.4 2.9 4.3 1.3]\n",
      " [6.6 3.  4.4 1.4]\n",
      " [6.8 2.8 4.8 1.4]\n",
      " [6.7 3.  5.  1.7]\n",
      " [6.  2.9 4.5 1.5]\n",
      " [5.7 2.6 3.5 1. ]\n",
      " [5.5 2.4 3.8 1.1]\n",
      " [5.5 2.4 3.7 1. ]\n",
      " [5.8 2.7 3.9 1.2]\n",
      " [6.  2.7 5.1 1.6]\n",
      " [5.4 3.  4.5 1.5]\n",
      " [6.  3.4 4.5 1.6]\n",
      " [6.7 3.1 4.7 1.5]\n",
      " [6.3 2.3 4.4 1.3]\n",
      " [5.6 3.  4.1 1.3]\n",
      " [5.5 2.5 4.  1.3]\n",
      " [5.5 2.6 4.4 1.2]\n",
      " [6.1 3.  4.6 1.4]\n",
      " [5.8 2.6 4.  1.2]\n",
      " [5.  2.3 3.3 1. ]\n",
      " [5.6 2.7 4.2 1.3]\n",
      " [5.7 3.  4.2 1.2]\n",
      " [5.7 2.9 4.2 1.3]\n",
      " [6.2 2.9 4.3 1.3]\n",
      " [5.1 2.5 3.  1.1]\n",
      " [5.7 2.8 4.1 1.3]\n",
      " [6.3 3.3 6.  2.5]\n",
      " [5.8 2.7 5.1 1.9]\n",
      " [7.1 3.  5.9 2.1]\n",
      " [6.3 2.9 5.6 1.8]\n",
      " [6.5 3.  5.8 2.2]\n",
      " [7.6 3.  6.6 2.1]\n",
      " [4.9 2.5 4.5 1.7]\n",
      " [7.3 2.9 6.3 1.8]\n",
      " [6.7 2.5 5.8 1.8]\n",
      " [7.2 3.6 6.1 2.5]\n",
      " [6.5 3.2 5.1 2. ]\n",
      " [6.4 2.7 5.3 1.9]\n",
      " [6.8 3.  5.5 2.1]\n",
      " [5.7 2.5 5.  2. ]\n",
      " [5.8 2.8 5.1 2.4]\n",
      " [6.4 3.2 5.3 2.3]\n",
      " [6.5 3.  5.5 1.8]\n",
      " [7.7 3.8 6.7 2.2]\n",
      " [7.7 2.6 6.9 2.3]\n",
      " [6.  2.2 5.  1.5]\n",
      " [6.9 3.2 5.7 2.3]\n",
      " [5.6 2.8 4.9 2. ]\n",
      " [7.7 2.8 6.7 2. ]\n",
      " [6.3 2.7 4.9 1.8]\n",
      " [6.7 3.3 5.7 2.1]\n",
      " [7.2 3.2 6.  1.8]\n",
      " [6.2 2.8 4.8 1.8]\n",
      " [6.1 3.  4.9 1.8]\n",
      " [6.4 2.8 5.6 2.1]\n",
      " [7.2 3.  5.8 1.6]\n",
      " [7.4 2.8 6.1 1.9]\n",
      " [7.9 3.8 6.4 2. ]\n",
      " [6.4 2.8 5.6 2.2]\n",
      " [6.3 2.8 5.1 1.5]\n",
      " [6.1 2.6 5.6 1.4]\n",
      " [7.7 3.  6.1 2.3]\n",
      " [6.3 3.4 5.6 2.4]\n",
      " [6.4 3.1 5.5 1.8]\n",
      " [6.  3.  4.8 1.8]\n",
      " [6.9 3.1 5.4 2.1]\n",
      " [6.7 3.1 5.6 2.4]\n",
      " [6.9 3.1 5.1 2.3]\n",
      " [5.8 2.7 5.1 1.9]\n",
      " [6.8 3.2 5.9 2.3]\n",
      " [6.7 3.3 5.7 2.5]\n",
      " [6.7 3.  5.2 2.3]\n",
      " [6.3 2.5 5.  1.9]\n",
      " [6.5 3.  5.2 2. ]\n",
      " [6.2 3.4 5.4 2.3]\n",
      " [5.9 3.  5.1 1.8]]\n"
     ]
    }
   ],
   "source": [
    "##Dataset preprocessing\n",
    "#membagi jadi 2, X untuk nilai numerik, Y untuk nama kelas\n",
    "X = dataset.iloc[:, :-1].values\n",
    "Y = dataset.iloc[:, -1].values\n",
    "\n",
    "print(X)"
   ]
  },
  {
   "cell_type": "code",
   "execution_count": 10,
   "metadata": {},
   "outputs": [],
   "source": [
    "#split dataset 90% train-10% test\n",
    "x_train, x_test, y_train, y_test = train_test_split(X, Y, test_size=0.2)\n"
   ]
  },
  {
   "cell_type": "code",
   "execution_count": 11,
   "metadata": {},
   "outputs": [
    {
     "name": "stdout",
     "output_type": "stream",
     "text": [
      "Non-KFold Accuracy: 96.66666666666667%\n"
     ]
    }
   ],
   "source": [
    "prediction = []\n",
    "for i in range(len(x_test)):\n",
    "    #mendapatkan tetangga terdekat\n",
    "    neighbors = getNeighbors(x_train, x_test[i], y_train, 3)\n",
    "    #mendapatkan kelas berdasarkan tetangga terdekat\n",
    "    result = getResponse(neighbors)\n",
    "    #memasukkan nilai kelas ke array prediction\n",
    "    prediction.append(result)\n",
    "#     print('> predicted=' + repr(result) + ', actual=' + repr(y_test[i]))\n",
    "    neighbors.clear()\n",
    "#menghitung akurasi dengan mengecek antara akurasi dengan nama kelas yang sebenarnya\n",
    "accuracy = getAccuracy(y_test, prediction)\n",
    "prediction.clear()\n",
    "# print(y_test)\n",
    "# print(prediction)\n",
    "print('Non-KFold Accuracy: ' + repr(accuracy) + \"%\")\n",
    "    # print(train)\n",
    "    # print(test)\n",
    "    # print(KF_xtrain)\n",
    "    # for j in range(len(test)):\n",
    "        # KFold_neighbors = getNeighbors()"
   ]
  },
  {
   "cell_type": "code",
   "execution_count": 12,
   "metadata": {},
   "outputs": [
    {
     "name": "stdout",
     "output_type": "stream",
     "text": [
      "KFold 1 Accuracy: 96.66666666666667%\n",
      "KFold 2 Accuracy: 96.66666666666667%\n",
      "KFold 3 Accuracy: 90.0%\n",
      "KFold 4 Accuracy: 93.33333333333333%\n",
      "KFold 5 Accuracy: 96.66666666666667%\n"
     ]
    }
   ],
   "source": [
    "#5 Fold\n",
    "fold = 1\n",
    "KF_xtrain = []\n",
    "KF_xtest = []\n",
    "KF_ytrain = []\n",
    "KF_ytest = []\n",
    "knn_5fold_result = []\n",
    "kfold = KFold(n_splits=5, shuffle=True, random_state=True)\n",
    "for train, test in kfold.split(X, Y):\n",
    "    # print('train: %s, test: %s' % (X[train], X[test]))\n",
    "    KF_xtrain.append(X[train])\n",
    "    KF_xtest.append(X[test])\n",
    "    KF_ytrain.append(Y[train])\n",
    "    KF_ytest.append(Y[test])\n",
    "    for j in range(len(KF_xtest[0])):\n",
    "        neighbors = getNeighbors(KF_xtrain[0], KF_xtest[0][j], KF_ytrain[0], 3)\n",
    "        result = getResponse(neighbors)\n",
    "        prediction.append(result)\n",
    "        neighbors.clear()\n",
    "    accuracy = getAccuracy(KF_ytest[0], prediction)\n",
    "    knn_5fold_result.append(accuracy)\n",
    "    prediction.clear()\n",
    "    # print(y_test)\n",
    "    # print(prediction)\n",
    "    print('KFold ' + str(fold) + ' Accuracy: ' + repr(accuracy) + \"%\")\n",
    "    fold += 1\n",
    "    KF_xtest.clear()\n",
    "    KF_xtrain.clear()\n",
    "    KF_ytest.clear()\n",
    "    KF_ytrain.clear()\n"
   ]
  },
  {
   "cell_type": "code",
   "execution_count": 13,
   "metadata": {},
   "outputs": [
    {
     "name": "stdout",
     "output_type": "stream",
     "text": [
      "KFold 1 Accuracy: 93.33333333333333%\n",
      "KFold 2 Accuracy: 93.33333333333333%\n",
      "KFold 3 Accuracy: 100.0%\n",
      "KFold 4 Accuracy: 93.33333333333333%\n",
      "KFold 5 Accuracy: 93.33333333333333%\n",
      "KFold 6 Accuracy: 93.33333333333333%\n",
      "KFold 7 Accuracy: 100.0%\n",
      "KFold 8 Accuracy: 86.66666666666667%\n",
      "KFold 9 Accuracy: 100.0%\n",
      "KFold 10 Accuracy: 93.33333333333333%\n"
     ]
    }
   ],
   "source": [
    "#10 Fold\n",
    "fold = 1\n",
    "KF_xtrain = []\n",
    "KF_xtest = []\n",
    "KF_ytrain = []\n",
    "KF_ytest = []\n",
    "knn_10fold_result = []\n",
    "kfold = KFold(n_splits=10, shuffle=True, random_state=True)\n",
    "for train, test in kfold.split(X, Y):\n",
    "    # print('train: %s, test: %s' % (X[train], X[test]))\n",
    "    KF_xtrain.append(X[train])\n",
    "    KF_xtest.append(X[test])\n",
    "    KF_ytrain.append(Y[train])\n",
    "    KF_ytest.append(Y[test])\n",
    "    for j in range(len(KF_xtest[0])):\n",
    "        neighbors = getNeighbors(KF_xtrain[0], KF_xtest[0][j], KF_ytrain[0], 3)\n",
    "        result = getResponse(neighbors)\n",
    "        prediction.append(result)\n",
    "        neighbors.clear()\n",
    "    accuracy = getAccuracy(KF_ytest[0], prediction)\n",
    "    knn_10fold_result.append(accuracy)\n",
    "    prediction.clear()\n",
    "    # print(y_test)\n",
    "    # print(prediction)\n",
    "    print('KFold ' + str(fold) + ' Accuracy: ' + repr(accuracy) + \"%\")\n",
    "    fold += 1\n",
    "    KF_xtest.clear()\n",
    "    KF_xtrain.clear()\n",
    "    KF_ytest.clear()\n",
    "    KF_ytrain.clear()"
   ]
  },
  {
   "cell_type": "code",
   "execution_count": 27,
   "metadata": {},
   "outputs": [
    {
     "data": {
      "image/png": "[encoded data removed]",
      "text/plain": [
       "<Figure size 432x288 with 1 Axes>"
      ]
     },
     "metadata": {},
     "output_type": "display_data"
    }
   ],
   "source": [
    "plt.plot([1,2,3,4,5],knn_5fold_result,'-ro', label=\"KNN\", linewidth=2.0)\n",
    "plt.legend(loc='lower right')\n",
    "plt.xlabel('k-fold')\n",
    "plt.ylabel('Accuracy in percentage')\n",
    "plt.show()"
   ]
  },
  {
   "cell_type": "code",
   "execution_count": 28,
   "metadata": {},
   "outputs": [
    {
     "data": {
      "image/png": "[encoded data removed]",
      "text/plain": [
       "<Figure size 432x288 with 1 Axes>"
      ]
     },
     "metadata": {},
     "output_type": "display_data"
    }
   ],
   "source": [
    "plt.plot([1,2,3,4,5,6,7,8,9,10],knn_10fold_result,'-ro', label=\"KNN\", linewidth=2.0)\n",
    "plt.legend(loc='lower right')\n",
    "plt.xlabel('k-fold')\n",
    "plt.ylabel('Accuracy in percentage')\n",
    "plt.show()"
   ]
  },
  {
   "cell_type": "code",
   "execution_count": null,
   "metadata": {},
   "outputs": [],
   "source": []
  }
 ],
 "metadata": {
  "kernelspec": {
   "display_name": "Python 3",
   "language": "python",
   "name": "python3"
  },
  "language_info": {
   "codemirror_mode": {
    "name": "ipython",
    "version": 3
   },
   "file_extension": ".py",
   "mimetype": "text/x-python",
   "name": "python",
   "nbconvert_exporter": "python",
   "pygments_lexer": "ipython3",
   "version": "3.6.5"
  }
 },
 "nbformat": 4,
 "nbformat_minor": 2
}
