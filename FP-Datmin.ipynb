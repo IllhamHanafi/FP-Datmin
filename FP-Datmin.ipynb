{
 "cells": [
  {
   "cell_type": "markdown",
   "metadata": {},
   "source": [
    "# JUDUL FP"
   ]
  },
  {
   "cell_type": "code",
   "execution_count": 1,
   "metadata": {},
   "outputs": [],
   "source": [
    "import numpy as np\n",
    "import matplotlib.pyplot as plt\n",
    "import pandas as pd\n",
    "import math\n",
    "import operator\n",
    "\n",
    "from sklearn.preprocessing import MinMaxScaler\n",
    "from sklearn.model_selection import train_test_split\n",
    "from sklearn.model_selection import KFold\n",
    "from statistics import mean"
   ]
  },
  {
   "cell_type": "code",
   "execution_count": 2,
   "metadata": {},
   "outputs": [],
   "source": [
    "#fungsi buat dapetin jarak eucledian\n",
    "#data1 = data pertama\n",
    "#data2 = data pembanding\n",
    "#length = jumlah variabel yang dibandingkan\n",
    "def eucledianDistance(data1, data2, length):\n",
    "    distance = 0\n",
    "    for x in range(length):\n",
    "        distance += pow((float(data1[x]) - float(data2[x])), 2)\n",
    "        # print(str(data1) + \"-\" + str(data2) + \": \" + str(distance))\n",
    "    return math.sqrt(distance)"
   ]
  },
  {
   "cell_type": "code",
   "execution_count": 3,
   "metadata": {},
   "outputs": [],
   "source": [
    "#fungsi untuk mendapatkan tetangga terdekat\n",
    "#trainingset = data training / ground truth\n",
    "#testdata = data testing / data yang diuji\n",
    "#k = tetangga\n",
    "def getNeighbors(trainingSet, testData, testClass, k):\n",
    "    #array distance untuk nyimpan jarak, nanti akan disort yang tedekat\n",
    "    # print(len(testData))\n",
    "    distance = []\n",
    "    length = len(testData) - 1\n",
    "    for x in range(len(trainingSet)):\n",
    "        dist = eucledianDistance(testData, trainingSet[x], length)\n",
    "        distance.append((trainingSet[x], testClass[x], dist))\n",
    "        # print((trainingSet[x], dist))\n",
    "    distance.sort(key=operator.itemgetter(2))\n",
    "    # print(distance)\n",
    "    neighbors = []\n",
    "    for x in range(k):\n",
    "        #habis disort, data tetangga terdekat disimpan di array neighbors\n",
    "        neighbors.append(distance[x][0:2])\n",
    "    # print(neighbors)\n",
    "    return neighbors"
   ]
  },
  {
   "cell_type": "code",
   "execution_count": 4,
   "metadata": {},
   "outputs": [],
   "source": [
    "#fungsi getResponse buat nyari datatest masuk kelas mana / voting kelasnya\n",
    "def getResponse(neighbors):\n",
    "    #classvote disiapin buat penampung proses voting kelas\n",
    "    classVote = {}\n",
    "    # print(neighbors)\n",
    "    for x in range(len(neighbors)):\n",
    "        response = neighbors[x][-1]\n",
    "        # print(response)\n",
    "        if response in classVote:\n",
    "            classVote[response] += 1\n",
    "        else:\n",
    "            classVote[response] = 1\n",
    "    # print(classVote)\n",
    "    # sortedVotes buat milih vote kelas terbanyak\n",
    "    sortedVotes = sorted(classVote.items(), key=operator.itemgetter(1), reverse=True)\n",
    "    # print(sortedVotes[0][0])\n",
    "    return sortedVotes[0][0]"
   ]
  },
  {
   "cell_type": "code",
   "execution_count": 5,
   "metadata": {},
   "outputs": [],
   "source": [
    "#fungsi getAccuracy untuk mendapatkan nilai akurasi\n",
    "#testData adalah kelas dari data yang dicek\n",
    "#prediction adalah prediksi kelas dari data yang dicek\n",
    "def getAccuracy(testData, predictions):\n",
    "    correct = 0\n",
    "#     print(len(testData))\n",
    "#     print(len(predictions))\n",
    "    for x in range(len(testData)):\n",
    "        #jika prediksi benar, maka nilai correct bertambah +1\n",
    "        if testData[x] == predictions[x]:\n",
    "            correct += 1\n",
    "    #mengembalikan nilai return persentase\n",
    "#    print(correct)\n",
    "    return (correct/float(len(testData))) * 100.0"
   ]
  },
  {
   "cell_type": "code",
   "execution_count": 6,
   "metadata": {},
   "outputs": [],
   "source": [
    "#Load dataset\n",
    "path = \"dataset/iris.data\"\n",
    "# path = \"dataset/transfusion.data\"\n",
    "# path = \"dataset/bupa.data\""
   ]
  },
  {
   "cell_type": "code",
   "execution_count": 7,
   "metadata": {},
   "outputs": [],
   "source": [
    "namesIris = [\n",
    "    'sepal-length',\n",
    "    'sepal-width',\n",
    "    'petal-width',\n",
    "    'petal-length',\n",
    "    'class'\n",
    "]\n",
    "\n",
    "nameTransfusion = [\n",
    "    'Recency',\n",
    "    'Frequency',\n",
    "    'Monetary',\n",
    "    'Time',\n",
    "    'Yes/No Donate'\n",
    "]\n",
    "\n",
    "nameBupa = [\n",
    "    'mcv',\n",
    "    'alkphos',\n",
    "    'sgpt',\n",
    "    'sgot',\n",
    "    'gammagt',\n",
    "    'drinks',\n",
    "    'selector'\n",
    "]"
   ]
  },
  {
   "cell_type": "markdown",
   "metadata": {},
   "source": [
    "## Iris Dataset"
   ]
  },
  {
   "cell_type": "code",
   "execution_count": 8,
   "metadata": {},
   "outputs": [
    {
     "name": "stdout",
     "output_type": "stream",
     "text": [
      "150\n"
     ]
    }
   ],
   "source": [
    "dataset = pd.read_csv(path, header=None)\n",
    "print(len(dataset))"
   ]
  },
  {
   "cell_type": "code",
   "execution_count": 9,
   "metadata": {},
   "outputs": [],
   "source": [
    "##Dataset preprocessing\n",
    "#membagi jadi 2, X untuk nilai numerik, Y untuk nama kelas\n",
    "X = dataset.iloc[:, :-1].values\n",
    "Y = dataset.iloc[:, -1].values"
   ]
  },
  {
   "cell_type": "code",
   "execution_count": 10,
   "metadata": {},
   "outputs": [],
   "source": [
    "#split dataset 90% train-10% test\n",
    "x_train, x_test, y_train, y_test = train_test_split(X, Y, test_size=0.2)\n"
   ]
  },
  {
   "cell_type": "code",
   "execution_count": 11,
   "metadata": {},
   "outputs": [
    {
     "name": "stdout",
     "output_type": "stream",
     "text": [
      "Non-KFold Accuracy: 86.66666666666667%\n"
     ]
    }
   ],
   "source": [
    "prediction = []\n",
    "for i in range(len(x_test)):\n",
    "    #mendapatkan tetangga terdekat\n",
    "    neighbors = getNeighbors(x_train, x_test[i], y_train, 3)\n",
    "    #mendapatkan kelas berdasarkan tetangga terdekat\n",
    "    result = getResponse(neighbors)\n",
    "    #memasukkan nilai kelas ke array prediction\n",
    "    prediction.append(result)\n",
    "#     print('> predicted=' + repr(result) + ', actual=' + repr(y_test[i]))\n",
    "    neighbors.clear()\n",
    "#menghitung akurasi dengan mengecek antara akurasi dengan nama kelas yang sebenarnya\n",
    "accuracy = getAccuracy(y_test, prediction)\n",
    "prediction.clear()\n",
    "# print(y_test)\n",
    "# print(prediction)\n",
    "print('Non-KFold Accuracy: ' + repr(accuracy) + \"%\")\n",
    "    # print(train)\n",
    "    # print(test)\n",
    "    # print(KF_xtrain)\n",
    "    # for j in range(len(test)):\n",
    "        # KFold_neighbors = getNeighbors()"
   ]
  },
  {
   "cell_type": "code",
   "execution_count": 15,
   "metadata": {},
   "outputs": [
    {
     "name": "stdout",
     "output_type": "stream",
     "text": [
      "K = 1 Accuracy: 92.0%\n",
      "K = 2 Accuracy: 92.0%\n",
      "K = 3 Accuracy: 94.66666666666667%\n",
      "K = 4 Accuracy: 94.0%\n",
      "K = 5 Accuracy: 94.0%\n",
      "K = 6 Accuracy: 94.66666666666667%\n",
      "K = 7 Accuracy: 94.0%\n",
      "K = 8 Accuracy: 95.33333333333334%\n",
      "K = 9 Accuracy: 95.33333333333334%\n",
      "K = 10 Accuracy: 94.66666666666667%\n"
     ]
    }
   ],
   "source": [
    "#5 Fold\n",
    "# k from 1 to 10\n",
    "\n",
    "knn_5fold_iris = []\n",
    "for k in range(1, 11):\n",
    "    fold = 1\n",
    "    KF_xtrain = []\n",
    "    KF_xtest = []\n",
    "    KF_ytrain = []\n",
    "    KF_ytest = []\n",
    "    knn_5fold_result = []\n",
    "    kfold = KFold(n_splits=5, shuffle=True, random_state=True)\n",
    "    for train, test in kfold.split(X, Y):\n",
    "        # print('train: %s, test: %s' % (X[train], X[test]))\n",
    "        KF_xtrain.append(X[train])\n",
    "        KF_xtest.append(X[test])\n",
    "        KF_ytrain.append(Y[train])\n",
    "        KF_ytest.append(Y[test])\n",
    "        for j in range(len(KF_xtest[0])):\n",
    "            neighbors = getNeighbors(KF_xtrain[0], KF_xtest[0][j], KF_ytrain[0], k)\n",
    "            result = getResponse(neighbors)\n",
    "            prediction.append(result)\n",
    "            neighbors.clear()\n",
    "        accuracy = getAccuracy(KF_ytest[0], prediction)\n",
    "        knn_5fold_result.append(accuracy)\n",
    "        prediction.clear()\n",
    "        # print(y_test)\n",
    "        # print(prediction)\n",
    "        fold += 1\n",
    "        KF_xtest.clear()\n",
    "        KF_xtrain.clear()\n",
    "        KF_ytest.clear()\n",
    "        KF_ytrain.clear()\n",
    "    print('K = ' + str(k) + ' Accuracy: ' + str(mean(knn_5fold_result)) + \"%\")\n",
    "    knn_5fold_iris.append(mean(knn_5fold_result))\n"
   ]
  },
  {
   "cell_type": "code",
   "execution_count": 16,
   "metadata": {},
   "outputs": [
    {
     "name": "stdout",
     "output_type": "stream",
     "text": [
      "K = 1 Accuracy: 92.0%\n",
      "K = 2 Accuracy: 92.0%\n",
      "K = 3 Accuracy: 94.66666666666666%\n",
      "K = 4 Accuracy: 93.33333333333333%\n",
      "K = 5 Accuracy: 94.66666666666667%\n",
      "K = 6 Accuracy: 94.0%\n",
      "K = 7 Accuracy: 93.33333333333333%\n",
      "K = 8 Accuracy: 94.66666666666666%\n",
      "K = 9 Accuracy: 94.66666666666666%\n",
      "K = 10 Accuracy: 94.66666666666666%\n"
     ]
    }
   ],
   "source": [
    "#10 Fold\n",
    "\n",
    "knn_10fold_iris = []\n",
    "for k in range(1, 11):\n",
    "    fold = 1\n",
    "    KF_xtrain = []\n",
    "    KF_xtest = []\n",
    "    KF_ytrain = []\n",
    "    KF_ytest = []\n",
    "    knn_10fold_result = []\n",
    "    kfold = KFold(n_splits=10, shuffle=True, random_state=True)\n",
    "    for train, test in kfold.split(X, Y):\n",
    "        # print('train: %s, test: %s' % (X[train], X[test]))\n",
    "        KF_xtrain.append(X[train])\n",
    "        KF_xtest.append(X[test])\n",
    "        KF_ytrain.append(Y[train])\n",
    "        KF_ytest.append(Y[test])\n",
    "        for j in range(len(KF_xtest[0])):\n",
    "            neighbors = getNeighbors(KF_xtrain[0], KF_xtest[0][j], KF_ytrain[0], k)\n",
    "            result = getResponse(neighbors)\n",
    "            prediction.append(result)\n",
    "            neighbors.clear()\n",
    "        accuracy = getAccuracy(KF_ytest[0], prediction)\n",
    "        knn_10fold_result.append(accuracy)\n",
    "        prediction.clear()\n",
    "        # print(y_test)\n",
    "        # print(prediction)\n",
    "        fold += 1\n",
    "        KF_xtest.clear()\n",
    "        KF_xtrain.clear()\n",
    "        KF_ytest.clear()\n",
    "        KF_ytrain.clear()\n",
    "    print('K = ' + str(k) + ' Accuracy: ' + str(mean(knn_10fold_result)) + \"%\")\n",
    "    knn_10fold_iris.append(mean(knn_10fold_result))"
   ]
  },
  {
   "cell_type": "code",
   "execution_count": 17,
   "metadata": {},
   "outputs": [
    {
     "data": {
      "image/png": "[encoded data removed]",
      "text/plain": [
       "<Figure size 432x288 with 1 Axes>"
      ]
     },
     "metadata": {},
     "output_type": "display_data"
    }
   ],
   "source": [
    "plt.plot([1,2,3,4,5,6,7,8,9,10],knn_5fold_iris,'-ro', label=\"KNN\", linewidth=2.0)\n",
    "plt.legend(loc='lower right')\n",
    "plt.xlabel('k nearest neighbour')\n",
    "plt.ylabel('Accuracy in percentage')\n",
    "plt.show()"
   ]
  },
  {
   "cell_type": "code",
   "execution_count": 18,
   "metadata": {},
   "outputs": [
    {
     "data": {
      "image/png": "[encoded data removed]",
      "text/plain": [
       "<Figure size 432x288 with 1 Axes>"
      ]
     },
     "metadata": {},
     "output_type": "display_data"
    }
   ],
   "source": [
    "plt.plot([1,2,3,4,5,6,7,8,9,10],knn_10fold_iris,'-ro', label=\"KNN\", linewidth=2.0)\n",
    "plt.legend(loc='lower right')\n",
    "plt.xlabel('k nearest neighbour')\n",
    "plt.ylabel('Accuracy in percentage')\n",
    "plt.show()"
   ]
  },
  {
   "cell_type": "code",
   "execution_count": null,
   "metadata": {},
   "outputs": [],
   "source": []
  }
 ],
 "metadata": {
  "kernelspec": {
   "display_name": "Python 3",
   "language": "python",
   "name": "python3"
  },
  "language_info": {
   "codemirror_mode": {
    "name": "ipython",
    "version": 3
   },
   "file_extension": ".py",
   "mimetype": "text/x-python",
   "name": "python",
   "nbconvert_exporter": "python",
   "pygments_lexer": "ipython3",
   "version": "3.6.5"
  }
 },
 "nbformat": 4,
 "nbformat_minor": 2
}
