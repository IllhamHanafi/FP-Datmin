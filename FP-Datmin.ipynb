{
 "cells": [
  {
   "cell_type": "markdown",
   "metadata": {},
   "source": [
    "# An Improved KNN Based on Class Contribution and Feature Weighting"
   ]
  },
  {
   "cell_type": "code",
   "execution_count": 1,
   "metadata": {},
   "outputs": [],
   "source": [
    "import numpy as np\n",
    "import matplotlib.pyplot as plt\n",
    "import pandas as pd\n",
    "import math\n",
    "import operator\n",
    "\n",
    "from sklearn.preprocessing import MinMaxScaler\n",
    "from sklearn.model_selection import train_test_split\n",
    "from sklearn.model_selection import KFold\n",
    "from statistics import mean\n",
    "from collections import defaultdict"
   ]
  },
  {
   "cell_type": "code",
   "execution_count": 2,
   "metadata": {},
   "outputs": [],
   "source": [
    "#fungsi buat dapetin jarak eucledian\n",
    "#data1 = data pertama\n",
    "#data2 = data pembanding\n",
    "#length = jumlah variabel yang dibandingkan\n",
    "def eucledianDistance(data1, data2, length, weight=[1,1,1,1,1,1,1,1,1,1,1,1]):\n",
    "    distance = 0\n",
    "    for x in range(length):\n",
    "        distance += (weight[x]*pow((float(data1[x]) - float(data2[x])), 2))\n",
    "        # print(str(data1) + \"-\" + str(data2) + \": \" + str(distance))\n",
    "    return math.sqrt(distance)"
   ]
  },
  {
   "cell_type": "code",
   "execution_count": 3,
   "metadata": {},
   "outputs": [],
   "source": [
    "#fungsi untuk mendapatkan tetangga terdekat\n",
    "#trainingset = data training / ground truth\n",
    "#testdata = data testing / data yang diuji\n",
    "#k = tetangga\n",
    "def getNeighbors(trainingSet, testData, testClass, k):\n",
    "    #array distance untuk nyimpan jarak, nanti akan disort yang tedekat\n",
    "    # print(len(testData))\n",
    "    distance = []\n",
    "    length = len(testData) - 1\n",
    "    for x in range(len(trainingSet)):\n",
    "        dist = eucledianDistance(testData, trainingSet[x], length)\n",
    "        distance.append((trainingSet[x], testClass[x], dist))\n",
    "        # print((trainingSet[x], dist))\n",
    "    distance.sort(key=operator.itemgetter(2))\n",
    "    # print(distance)\n",
    "    neighbors = []\n",
    "    for x in range(k):\n",
    "        #habis disort, data tetangga terdekat disimpan di array neighbors\n",
    "        neighbors.append(distance[x][0:2])\n",
    "    # print(neighbors)\n",
    "    return neighbors"
   ]
  },
  {
   "cell_type": "code",
   "execution_count": 4,
   "metadata": {},
   "outputs": [],
   "source": [
    "#fungsi getResponse buat nyari datatest masuk kelas mana / voting kelasnya\n",
    "def getResponse(neighbors):\n",
    "    #classvote disiapin buat penampung proses voting kelas\n",
    "    classVote = {}\n",
    "    # print(neighbors)\n",
    "    for x in range(len(neighbors)):\n",
    "        response = neighbors[x][-1]\n",
    "        # print(response)\n",
    "        if response in classVote:\n",
    "            classVote[response] += 1\n",
    "        else:\n",
    "            classVote[response] = 1\n",
    "    # print(classVote)\n",
    "    # sortedVotes buat milih vote kelas terbanyak\n",
    "    sortedVotes = sorted(classVote.items(), key=operator.itemgetter(1), reverse=True)\n",
    "    # print(sortedVotes[0][0])\n",
    "    return sortedVotes[0][0]"
   ]
  },
  {
   "cell_type": "code",
   "execution_count": 5,
   "metadata": {},
   "outputs": [],
   "source": [
    "#fungsi getAccuracy untuk mendapatkan nilai akurasi\n",
    "#testData adalah kelas dari data yang dicek\n",
    "#prediction adalah prediksi kelas dari data yang dicek\n",
    "def getAccuracy(testData, predictions):\n",
    "    correct = 0\n",
    "#     print(len(testData))\n",
    "#     print(len(predictions))\n",
    "    for x in range(len(testData)):\n",
    "        #jika prediksi benar, maka nilai correct bertambah +1\n",
    "        if testData[x] == predictions[x]:\n",
    "            correct += 1\n",
    "    #mengembalikan nilai return persentase\n",
    "#    print(correct)\n",
    "    return (correct/float(len(testData)))"
   ]
  },
  {
   "cell_type": "code",
   "execution_count": 6,
   "metadata": {},
   "outputs": [],
   "source": [
    "#fungsi getKFold untuk melakukan operasi K-Fold dan return accuracy\n",
    "def getKFold(dataX, dataY, numberofK, numberofNeighbour):    \n",
    "    prediction = []\n",
    "    fold = 1\n",
    "    KF_xtrain = []\n",
    "    KF_xtest = []\n",
    "    KF_ytrain = []\n",
    "    KF_ytest = []\n",
    "    knn_result = []\n",
    "    kfold = KFold(n_splits=numberofK, shuffle=True, random_state=True)\n",
    "    for train, test in kfold.split(dataX, dataY):\n",
    "        # print('train: %s, test: %s' % (X[train], X[test]))\n",
    "        KF_xtrain.append(dataX[train])\n",
    "        KF_xtest.append(dataX[test])\n",
    "        KF_ytrain.append(dataY[train])\n",
    "        KF_ytest.append(dataY[test])\n",
    "        for j in range(len(KF_xtest[0])):\n",
    "            neighbors = getNeighbors(KF_xtrain[0], KF_xtest[0][j], KF_ytrain[0], numberofNeighbour)\n",
    "            result = getResponse(neighbors)\n",
    "            prediction.append(result)\n",
    "            neighbors.clear()\n",
    "        accuracy = getAccuracy(KF_ytest[0], prediction)\n",
    "        knn_result.append(accuracy)\n",
    "        prediction.clear()\n",
    "        # print(y_test)\n",
    "        # print(prediction)\n",
    "        fold += 1\n",
    "        KF_xtest.clear()\n",
    "        KF_xtrain.clear()\n",
    "        KF_ytest.clear()\n",
    "        KF_ytrain.clear()\n",
    "    print('K = ' + str(numberofK) + ' Neighbour = ' + str(numberofNeighbour)+ ' Accuracy: ' + str(mean(knn_result)))\n",
    "    return mean(knn_result)\n",
    "    "
   ]
  },
  {
   "cell_type": "code",
   "execution_count": 7,
   "metadata": {},
   "outputs": [],
   "source": [
    "#Load dataset\n",
    "path = \"dataset/iris.data\"\n",
    "# path = \"dataset/transfusion.data\"\n",
    "# path = \"dataset/bupa.data\""
   ]
  },
  {
   "cell_type": "code",
   "execution_count": 8,
   "metadata": {},
   "outputs": [],
   "source": [
    "namesIris = [\n",
    "    'sepal-length',\n",
    "    'sepal-width',\n",
    "    'petal-width',\n",
    "    'petal-length',\n",
    "    'class'\n",
    "]\n",
    "\n",
    "nameTransfusion = [\n",
    "    'Recency',\n",
    "    'Frequency',\n",
    "    'Monetary',\n",
    "    'Time',\n",
    "    'Yes/No Donate'\n",
    "]\n",
    "\n",
    "nameBupa = [\n",
    "    'mcv',\n",
    "    'alkphos',\n",
    "    'sgpt',\n",
    "    'sgot',\n",
    "    'gammagt',\n",
    "    'drinks',\n",
    "    'selector'\n",
    "]"
   ]
  },
  {
   "cell_type": "markdown",
   "metadata": {},
   "source": [
    "## Iris Dataset"
   ]
  },
  {
   "cell_type": "code",
   "execution_count": 9,
   "metadata": {},
   "outputs": [
    {
     "name": "stdout",
     "output_type": "stream",
     "text": [
      "150\n"
     ]
    }
   ],
   "source": [
    "dataset = pd.read_csv(path, header=None)\n",
    "print(len(dataset))"
   ]
  },
  {
   "cell_type": "code",
   "execution_count": 10,
   "metadata": {},
   "outputs": [],
   "source": [
    "##Dataset preprocessing\n",
    "#membagi jadi 2, X untuk nilai numerik, Y untuk nama kelas\n",
    "X = dataset.iloc[:, :-1].values\n",
    "Y = dataset.iloc[:, -1].values\n",
    "Z_0 = np.delete(X, 0, 1)\n",
    "Z_1 = np.delete(X, 1, 1)\n",
    "Z_2 = np.delete(X, 2, 1)\n",
    "Z_3 = np.delete(X, 3, 1)\n",
    "#print(X)\n",
    "#print(Z)"
   ]
  },
  {
   "cell_type": "markdown",
   "metadata": {},
   "source": [
    "### DCT-KNN Step"
   ]
  },
  {
   "cell_type": "code",
   "execution_count": 11,
   "metadata": {},
   "outputs": [
    {
     "name": "stdout",
     "output_type": "stream",
     "text": [
      "K = 5 Neighbour = 3 Accuracy: 0.9466666666666667\n",
      "K = 5 Neighbour = 3 Accuracy: 0.9400000000000001\n",
      "K = 5 Neighbour = 3 Accuracy: 0.9666666666666667\n",
      "K = 5 Neighbour = 3 Accuracy: 0.72\n",
      "K = 5 Neighbour = 3 Accuracy: 0.72\n",
      "K = 5 Neighbour = 5 Accuracy: 0.9400000000000001\n",
      "K = 5 Neighbour = 5 Accuracy: 0.9400000000000001\n",
      "K = 5 Neighbour = 5 Accuracy: 0.9400000000000001\n",
      "K = 5 Neighbour = 5 Accuracy: 0.76\n",
      "K = 5 Neighbour = 5 Accuracy: 0.76\n",
      "K = 5 Neighbour = 7 Accuracy: 0.9400000000000001\n",
      "K = 5 Neighbour = 7 Accuracy: 0.9533333333333334\n",
      "K = 5 Neighbour = 7 Accuracy: 0.9466666666666667\n",
      "K = 5 Neighbour = 7 Accuracy: 0.74\n",
      "K = 5 Neighbour = 7 Accuracy: 0.74\n"
     ]
    }
   ],
   "source": [
    "# 1. Delete one feature\n",
    "# pret is the sum average accuracy of\n",
    "# the traditional kNN algorithm in the original dataset when\n",
    "# the value of k is 3,5 and 7 on the condition of 5-folder cross\n",
    "# validation, and the prei is the similar sum of the traditional\n",
    "# kNN algorithm on the data lacking the i-th feature.\n",
    "normal_KNN_result = []\n",
    "lack_feature_result = defaultdict(list)\n",
    "z = {}\n",
    "\n",
    "for N in (3, 5, 7):\n",
    "    normal_KNN_result.append(getKFold(X, Y, numberofK=5, numberofNeighbour=N))\n",
    "    for k in range (4):\n",
    "        lack_feature_result[k].append(getKFold(locals()[\"Z_\" + str(k)], Y, numberofK=5, numberofNeighbour=N))\n",
    "        \n",
    "# print(normal_KNN_result)\n",
    "# for k in range (4):\n",
    "#     print(lack_feature_result[k])"
   ]
  },
  {
   "cell_type": "code",
   "execution_count": 12,
   "metadata": {},
   "outputs": [
    {
     "name": "stdout",
     "output_type": "stream",
     "text": [
      "[0.19176319176319173, 0.18790218790218788, 0.31016731016731025, 0.31016731016731025]\n"
     ]
    }
   ],
   "source": [
    "disc = []\n",
    "for i in range (4):\n",
    "    disc.append((1-(sum(lack_feature_result[i]) - sum(normal_KNN_result))))\n",
    "# print(disc)\n",
    "normalized_disc = []\n",
    "for i in range (4):\n",
    "    normalized_disc.append((disc[i]/sum(disc)))\n",
    "print(normalized_disc)"
   ]
  },
  {
   "cell_type": "code",
   "execution_count": 13,
   "metadata": {},
   "outputs": [
    {
     "name": "stdout",
     "output_type": "stream",
     "text": [
      "K = 5 Neighbour = 1 Accuracy: 0.92\n",
      "K = 5 Neighbour = 2 Accuracy: 0.92\n",
      "K = 5 Neighbour = 3 Accuracy: 0.9466666666666667\n",
      "K = 5 Neighbour = 4 Accuracy: 0.9400000000000001\n",
      "K = 5 Neighbour = 5 Accuracy: 0.9400000000000001\n",
      "K = 5 Neighbour = 6 Accuracy: 0.9466666666666667\n",
      "K = 5 Neighbour = 7 Accuracy: 0.9400000000000001\n",
      "K = 5 Neighbour = 8 Accuracy: 0.9533333333333334\n",
      "K = 5 Neighbour = 9 Accuracy: 0.9533333333333334\n",
      "K = 5 Neighbour = 10 Accuracy: 0.9466666666666667\n"
     ]
    }
   ],
   "source": [
    "#5 Fold\n",
    "K_5_result = []\n",
    "for N in range (1,11):\n",
    "    K_5_result.append(getKFold(X, Y, numberofK=5, numberofNeighbour=N))\n"
   ]
  },
  {
   "cell_type": "code",
   "execution_count": 14,
   "metadata": {},
   "outputs": [
    {
     "name": "stdout",
     "output_type": "stream",
     "text": [
      "K = 10 Neighbour = 1 Accuracy: 0.92\n",
      "K = 10 Neighbour = 2 Accuracy: 0.92\n",
      "K = 10 Neighbour = 3 Accuracy: 0.9466666666666667\n",
      "K = 10 Neighbour = 4 Accuracy: 0.9333333333333333\n",
      "K = 10 Neighbour = 5 Accuracy: 0.9466666666666667\n",
      "K = 10 Neighbour = 6 Accuracy: 0.9400000000000001\n",
      "K = 10 Neighbour = 7 Accuracy: 0.9333333333333333\n",
      "K = 10 Neighbour = 8 Accuracy: 0.9466666666666667\n",
      "K = 10 Neighbour = 9 Accuracy: 0.9466666666666667\n",
      "K = 10 Neighbour = 10 Accuracy: 0.9466666666666667\n"
     ]
    }
   ],
   "source": [
    "#10 Fold\n",
    "\n",
    "K_10_result = []\n",
    "for N in range (1,11):\n",
    "    K_10_result.append(getKFold(X, Y, numberofK=10, numberofNeighbour=N))"
   ]
  },
  {
   "cell_type": "code",
   "execution_count": 15,
   "metadata": {},
   "outputs": [
    {
     "data": {
      "image/png": "[encoded data removed]",
      "text/plain": [
       "<Figure size 432x288 with 1 Axes>"
      ]
     },
     "metadata": {},
     "output_type": "display_data"
    }
   ],
   "source": [
    "plt.plot([1,2,3,4,5,6,7,8,9,10],K_5_result,'-ro', label=\"KNN\", linewidth=2.0)\n",
    "plt.legend(loc='lower right')\n",
    "plt.xlabel('k nearest neighbour')\n",
    "plt.ylabel('Accuracy in percentage')\n",
    "plt.show()"
   ]
  },
  {
   "cell_type": "code",
   "execution_count": 16,
   "metadata": {},
   "outputs": [
    {
     "data": {
      "image/png": "[encoded data removed]",
      "text/plain": [
       "<Figure size 432x288 with 1 Axes>"
      ]
     },
     "metadata": {},
     "output_type": "display_data"
    }
   ],
   "source": [
    "plt.plot([1,2,3,4,5,6,7,8,9,10],K_10_result,'-ro', label=\"KNN\", linewidth=2.0)\n",
    "plt.legend(loc='lower right')\n",
    "plt.xlabel('k nearest neighbour')\n",
    "plt.ylabel('Accuracy in percentage')\n",
    "plt.show()"
   ]
  },
  {
   "cell_type": "code",
   "execution_count": null,
   "metadata": {},
   "outputs": [],
   "source": []
  }
 ],
 "metadata": {
  "kernelspec": {
   "display_name": "Python 3",
   "language": "python",
   "name": "python3"
  },
  "language_info": {
   "codemirror_mode": {
    "name": "ipython",
    "version": 3
   },
   "file_extension": ".py",
   "mimetype": "text/x-python",
   "name": "python",
   "nbconvert_exporter": "python",
   "pygments_lexer": "ipython3",
   "version": "3.6.5"
  }
 },
 "nbformat": 4,
 "nbformat_minor": 2
}
